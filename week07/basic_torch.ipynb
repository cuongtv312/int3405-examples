{
 "cells": [
  {
   "cell_type": "code",
   "execution_count": 1,
   "id": "0851bc0c",
   "metadata": {},
   "outputs": [],
   "source": [
    "import torch\n",
    "import numpy as np\n",
    "\n",
    "import time"
   ]
  },
  {
   "cell_type": "code",
   "execution_count": 10,
   "id": "c6411f24",
   "metadata": {},
   "outputs": [],
   "source": [
    "dtype_cpu = torch.FloatTensor\n",
    "dtype_gpu = torch.cuda.FloatTensor"
   ]
  },
  {
   "cell_type": "code",
   "execution_count": 18,
   "id": "8b692fa7",
   "metadata": {},
   "outputs": [],
   "source": [
    "def np_multi2matrix(N, k=1):\n",
    "    a = np.random.rand(N, N)\n",
    "    b = np.random.rand(N, N)\n",
    "    \n",
    "    for i in range(k):\n",
    "        c = a*b\n",
    "    \n",
    "def torch_multi2matrix(N, dtype, k=1):\n",
    "    a = torch.randn(N, N).type(dtype)\n",
    "    b = torch.randn(N, N).type(dtype)\n",
    "    \n",
    "    for i in range(k):\n",
    "        c = a*b\n"
   ]
  },
  {
   "cell_type": "code",
   "execution_count": 30,
   "id": "06e852f7",
   "metadata": {},
   "outputs": [
    {
     "name": "stdout",
     "output_type": "stream",
     "text": [
      "Run in:  12.061641931533813\n"
     ]
    }
   ],
   "source": [
    "start_time = time.time()\n",
    "for i in range(1000):\n",
    "    np_multi2matrix(1000)\n",
    "print(\"Run in: \", time.time() - start_time)"
   ]
  },
  {
   "cell_type": "code",
   "execution_count": 31,
   "id": "81f2c4d7",
   "metadata": {},
   "outputs": [
    {
     "name": "stdout",
     "output_type": "stream",
     "text": [
      "Run in:  17.914969205856323\n"
     ]
    }
   ],
   "source": [
    "start_time = time.time()\n",
    "for i in range(1000):\n",
    "    torch_multi2matrix(1000, dtype_cpu)\n",
    "print(\"Run in: \", time.time() - start_time)"
   ]
  },
  {
   "cell_type": "code",
   "execution_count": 33,
   "id": "972bd179",
   "metadata": {},
   "outputs": [
    {
     "name": "stdout",
     "output_type": "stream",
     "text": [
      "Run in:  15.394152879714966\n"
     ]
    }
   ],
   "source": [
    "start_time = time.time()\n",
    "for i in range(1000):\n",
    "    torch_multi2matrix(1000, dtype_gpu)\n",
    "print(\"Run in: \", time.time() - start_time)"
   ]
  },
  {
   "cell_type": "code",
   "execution_count": 27,
   "id": "9fbd95a5",
   "metadata": {},
   "outputs": [
    {
     "name": "stdout",
     "output_type": "stream",
     "text": [
      "Run in:  1.5228123664855957\n"
     ]
    }
   ],
   "source": [
    "start_time = time.time()\n",
    "for i in range(10):\n",
    "    np_multi2matrix(1000, 100)\n",
    "print(\"Run in: \", time.time() - start_time)"
   ]
  },
  {
   "cell_type": "code",
   "execution_count": 29,
   "id": "5a83dbf4",
   "metadata": {},
   "outputs": [
    {
     "name": "stdout",
     "output_type": "stream",
     "text": [
      "Run in:  1.2210030555725098\n"
     ]
    }
   ],
   "source": [
    "start_time = time.time()\n",
    "for i in range(10):\n",
    "    torch_multi2matrix(1000, dtype_cpu, 100)\n",
    "print(\"Run in: \", time.time() - start_time)"
   ]
  },
  {
   "cell_type": "code",
   "execution_count": 28,
   "id": "94ed4da1",
   "metadata": {},
   "outputs": [
    {
     "name": "stdout",
     "output_type": "stream",
     "text": [
      "Run in:  0.19761919975280762\n"
     ]
    }
   ],
   "source": [
    "start_time = time.time()\n",
    "for i in range(10):\n",
    "    torch_multi2matrix(1000, dtype_gpu, 100)\n",
    "print(\"Run in: \", time.time() - start_time)"
   ]
  },
  {
   "cell_type": "code",
   "execution_count": null,
   "id": "ef0f0890",
   "metadata": {},
   "outputs": [],
   "source": []
  }
 ],
 "metadata": {
  "kernelspec": {
   "display_name": "Python 3 (ipykernel)",
   "language": "python",
   "name": "python3"
  },
  "language_info": {
   "codemirror_mode": {
    "name": "ipython",
    "version": 3
   },
   "file_extension": ".py",
   "mimetype": "text/x-python",
   "name": "python",
   "nbconvert_exporter": "python",
   "pygments_lexer": "ipython3",
   "version": "3.7.10"
  }
 },
 "nbformat": 4,
 "nbformat_minor": 5
}
